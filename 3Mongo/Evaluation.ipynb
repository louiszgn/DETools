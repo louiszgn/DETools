{
 "cells": [
  {
   "cell_type": "markdown",
   "id": "intelligent-alliance",
   "metadata": {},
   "source": [
    "# Evaluation"
   ]
  },
  {
   "cell_type": "code",
   "execution_count": 1,
   "id": "monthly-uzbekistan",
   "metadata": {},
   "outputs": [],
   "source": [
    "import pandas as pd\n",
    "import pymongo"
   ]
  },
  {
   "cell_type": "code",
   "execution_count": 2,
   "id": "wrong-jackson",
   "metadata": {},
   "outputs": [],
   "source": [
    "client = pymongo.MongoClient()\n",
    "database = client['exercices']\n",
    "collection = database['etatcivil']"
   ]
  },
  {
   "cell_type": "code",
   "execution_count": 3,
   "id": "eleven-vehicle",
   "metadata": {},
   "outputs": [
    {
     "data": {
      "text/html": [
       "<div>\n",
       "<style>\n",
       "    .dataframe thead tr:only-child th {\n",
       "        text-align: right;\n",
       "    }\n",
       "\n",
       "    .dataframe thead th {\n",
       "        text-align: left;\n",
       "    }\n",
       "\n",
       "    .dataframe tbody tr th {\n",
       "        vertical-align: top;\n",
       "    }\n",
       "</style>\n",
       "<table border=\"1\" class=\"dataframe\">\n",
       "  <thead>\n",
       "    <tr style=\"text-align: right;\">\n",
       "      <th></th>\n",
       "      <th>COMMUNE_NOM</th>\n",
       "      <th>COLL_INSEE</th>\n",
       "      <th>TYPE_EVENEMENT</th>\n",
       "      <th>ANNEE</th>\n",
       "      <th>DATE_EVENEMENT</th>\n",
       "      <th>NOMBRE_EVENEMENT</th>\n",
       "    </tr>\n",
       "  </thead>\n",
       "  <tbody>\n",
       "    <tr>\n",
       "      <th>0</th>\n",
       "      <td>NEUVILLE-SAINT-REMY</td>\n",
       "      <td>59428</td>\n",
       "      <td>MARIAGE</td>\n",
       "      <td>2016</td>\n",
       "      <td>20161224</td>\n",
       "      <td>1</td>\n",
       "    </tr>\n",
       "    <tr>\n",
       "      <th>1</th>\n",
       "      <td>NEUVILLE-SAINT-REMY</td>\n",
       "      <td>59428</td>\n",
       "      <td>MARIAGE</td>\n",
       "      <td>2016</td>\n",
       "      <td>20161212</td>\n",
       "      <td>1</td>\n",
       "    </tr>\n",
       "    <tr>\n",
       "      <th>2</th>\n",
       "      <td>NEUVILLE-SAINT-REMY</td>\n",
       "      <td>59428</td>\n",
       "      <td>MARIAGE</td>\n",
       "      <td>2016</td>\n",
       "      <td>20161202</td>\n",
       "      <td>1</td>\n",
       "    </tr>\n",
       "    <tr>\n",
       "      <th>3</th>\n",
       "      <td>NEUVILLE-SAINT-REMY</td>\n",
       "      <td>59428</td>\n",
       "      <td>MARIAGE</td>\n",
       "      <td>2016</td>\n",
       "      <td>20160917</td>\n",
       "      <td>1</td>\n",
       "    </tr>\n",
       "    <tr>\n",
       "      <th>4</th>\n",
       "      <td>NEUVILLE-SAINT-REMY</td>\n",
       "      <td>59428</td>\n",
       "      <td>MARIAGE</td>\n",
       "      <td>2016</td>\n",
       "      <td>20160910</td>\n",
       "      <td>2</td>\n",
       "    </tr>\n",
       "  </tbody>\n",
       "</table>\n",
       "</div>"
      ],
      "text/plain": [
       "           COMMUNE_NOM  COLL_INSEE TYPE_EVENEMENT  ANNEE  DATE_EVENEMENT  \\\n",
       "0  NEUVILLE-SAINT-REMY       59428        MARIAGE   2016        20161224   \n",
       "1  NEUVILLE-SAINT-REMY       59428        MARIAGE   2016        20161212   \n",
       "2  NEUVILLE-SAINT-REMY       59428        MARIAGE   2016        20161202   \n",
       "3  NEUVILLE-SAINT-REMY       59428        MARIAGE   2016        20160917   \n",
       "4  NEUVILLE-SAINT-REMY       59428        MARIAGE   2016        20160910   \n",
       "\n",
       "   NOMBRE_EVENEMENT  \n",
       "0                 1  \n",
       "1                 1  \n",
       "2                 1  \n",
       "3                 1  \n",
       "4                 2  "
      ]
     },
     "execution_count": 3,
     "metadata": {},
     "output_type": "execute_result"
    }
   ],
   "source": [
    "df_etatcivil = pd.read_csv(\"./data/actes_etat_civil_neuville_saint_remy.csv\")\n",
    "df_etatcivil.head(5)"
   ]
  },
  {
   "cell_type": "markdown",
   "id": "different-comfort",
   "metadata": {},
   "source": [
    "## --------------"
   ]
  },
  {
   "cell_type": "markdown",
   "id": "satisfied-mumbai",
   "metadata": {},
   "source": [
    "### Nettoyer les données"
   ]
  },
  {
   "cell_type": "code",
   "execution_count": 4,
   "id": "hollow-forth",
   "metadata": {},
   "outputs": [],
   "source": [
    "l_d = df_etatcivil.to_dict(orient = 'records')"
   ]
  },
  {
   "cell_type": "markdown",
   "id": "secret-pixel",
   "metadata": {},
   "source": [
    "### Importer les données"
   ]
  },
  {
   "cell_type": "code",
   "execution_count": 5,
   "id": "collective-pearl",
   "metadata": {},
   "outputs": [],
   "source": [
    "from pymongo import MongoClient\n",
    "client = MongoClient(\"mongo:27017\")"
   ]
  },
  {
   "cell_type": "code",
   "execution_count": 6,
   "id": "current-depth",
   "metadata": {},
   "outputs": [],
   "source": [
    "db_ec = client.ec\n",
    "collection_ec = db_ec['etatcivil']"
   ]
  },
  {
   "cell_type": "code",
   "execution_count": 7,
   "id": "genetic-custom",
   "metadata": {},
   "outputs": [
    {
     "ename": "ServerSelectionTimeoutError",
     "evalue": "mongo:27017: [Errno -3] Temporary failure in name resolution",
     "output_type": "error",
     "traceback": [
      "\u001b[0;31m---------------------------------------------------------------------------\u001b[0m",
      "\u001b[0;31mServerSelectionTimeoutError\u001b[0m               Traceback (most recent call last)",
      "\u001b[0;32m<ipython-input-7-7683eb1bc973>\u001b[0m in \u001b[0;36m<module>\u001b[0;34m\u001b[0m\n\u001b[0;32m----> 1\u001b[0;31m \u001b[0mcollection_ec\u001b[0m\u001b[0;34m.\u001b[0m\u001b[0mdelete_many\u001b[0m\u001b[0;34m(\u001b[0m\u001b[0;34m{\u001b[0m\u001b[0;34m}\u001b[0m\u001b[0;34m)\u001b[0m\u001b[0;34m\u001b[0m\u001b[0;34m\u001b[0m\u001b[0m\n\u001b[0m\u001b[1;32m      2\u001b[0m \u001b[0mcollection_ec\u001b[0m\u001b[0;34m.\u001b[0m\u001b[0minsert_many\u001b[0m\u001b[0;34m(\u001b[0m\u001b[0ml_d\u001b[0m\u001b[0;34m)\u001b[0m\u001b[0;34m\u001b[0m\u001b[0;34m\u001b[0m\u001b[0m\n",
      "\u001b[0;32m~/.local/share/virtualenvs/code-AFz48Hjb/lib/python3.6/site-packages/pymongo/collection.py\u001b[0m in \u001b[0;36mdelete_many\u001b[0;34m(self, filter, collation)\u001b[0m\n\u001b[1;32m   1072\u001b[0m         \u001b[0;34m.\u001b[0m\u001b[0;34m.\u001b[0m \u001b[0mversionadded\u001b[0m\u001b[0;34m:\u001b[0m\u001b[0;34m:\u001b[0m \u001b[0;36m3.0\u001b[0m\u001b[0;34m\u001b[0m\u001b[0;34m\u001b[0m\u001b[0m\n\u001b[1;32m   1073\u001b[0m         \"\"\"\n\u001b[0;32m-> 1074\u001b[0;31m         \u001b[0;32mwith\u001b[0m \u001b[0mself\u001b[0m\u001b[0;34m.\u001b[0m\u001b[0m_socket_for_writes\u001b[0m\u001b[0;34m(\u001b[0m\u001b[0;34m)\u001b[0m \u001b[0;32mas\u001b[0m \u001b[0msock_info\u001b[0m\u001b[0;34m:\u001b[0m\u001b[0;34m\u001b[0m\u001b[0;34m\u001b[0m\u001b[0m\n\u001b[0m\u001b[1;32m   1075\u001b[0m             return DeleteResult(self._delete(sock_info, filter, True,\n\u001b[1;32m   1076\u001b[0m                                              collation=collation),\n",
      "\u001b[0;32m/usr/local/lib/python3.6/contextlib.py\u001b[0m in \u001b[0;36m__enter__\u001b[0;34m(self)\u001b[0m\n\u001b[1;32m     79\u001b[0m     \u001b[0;32mdef\u001b[0m \u001b[0m__enter__\u001b[0m\u001b[0;34m(\u001b[0m\u001b[0mself\u001b[0m\u001b[0;34m)\u001b[0m\u001b[0;34m:\u001b[0m\u001b[0;34m\u001b[0m\u001b[0;34m\u001b[0m\u001b[0m\n\u001b[1;32m     80\u001b[0m         \u001b[0;32mtry\u001b[0m\u001b[0;34m:\u001b[0m\u001b[0;34m\u001b[0m\u001b[0;34m\u001b[0m\u001b[0m\n\u001b[0;32m---> 81\u001b[0;31m             \u001b[0;32mreturn\u001b[0m \u001b[0mnext\u001b[0m\u001b[0;34m(\u001b[0m\u001b[0mself\u001b[0m\u001b[0;34m.\u001b[0m\u001b[0mgen\u001b[0m\u001b[0;34m)\u001b[0m\u001b[0;34m\u001b[0m\u001b[0;34m\u001b[0m\u001b[0m\n\u001b[0m\u001b[1;32m     82\u001b[0m         \u001b[0;32mexcept\u001b[0m \u001b[0mStopIteration\u001b[0m\u001b[0;34m:\u001b[0m\u001b[0;34m\u001b[0m\u001b[0;34m\u001b[0m\u001b[0m\n\u001b[1;32m     83\u001b[0m             \u001b[0;32mraise\u001b[0m \u001b[0mRuntimeError\u001b[0m\u001b[0;34m(\u001b[0m\u001b[0;34m\"generator didn't yield\"\u001b[0m\u001b[0;34m)\u001b[0m \u001b[0;32mfrom\u001b[0m \u001b[0;32mNone\u001b[0m\u001b[0;34m\u001b[0m\u001b[0;34m\u001b[0m\u001b[0m\n",
      "\u001b[0;32m~/.local/share/virtualenvs/code-AFz48Hjb/lib/python3.6/site-packages/pymongo/mongo_client.py\u001b[0m in \u001b[0;36m_get_socket\u001b[0;34m(self, selector)\u001b[0m\n\u001b[1;32m    866\u001b[0m     \u001b[0;34m@\u001b[0m\u001b[0mcontextlib\u001b[0m\u001b[0;34m.\u001b[0m\u001b[0mcontextmanager\u001b[0m\u001b[0;34m\u001b[0m\u001b[0;34m\u001b[0m\u001b[0m\n\u001b[1;32m    867\u001b[0m     \u001b[0;32mdef\u001b[0m \u001b[0m_get_socket\u001b[0m\u001b[0;34m(\u001b[0m\u001b[0mself\u001b[0m\u001b[0;34m,\u001b[0m \u001b[0mselector\u001b[0m\u001b[0;34m)\u001b[0m\u001b[0;34m:\u001b[0m\u001b[0;34m\u001b[0m\u001b[0;34m\u001b[0m\u001b[0m\n\u001b[0;32m--> 868\u001b[0;31m         \u001b[0mserver\u001b[0m \u001b[0;34m=\u001b[0m \u001b[0mself\u001b[0m\u001b[0;34m.\u001b[0m\u001b[0m_get_topology\u001b[0m\u001b[0;34m(\u001b[0m\u001b[0;34m)\u001b[0m\u001b[0;34m.\u001b[0m\u001b[0mselect_server\u001b[0m\u001b[0;34m(\u001b[0m\u001b[0mselector\u001b[0m\u001b[0;34m)\u001b[0m\u001b[0;34m\u001b[0m\u001b[0;34m\u001b[0m\u001b[0m\n\u001b[0m\u001b[1;32m    869\u001b[0m         \u001b[0;32mtry\u001b[0m\u001b[0;34m:\u001b[0m\u001b[0;34m\u001b[0m\u001b[0;34m\u001b[0m\u001b[0m\n\u001b[1;32m    870\u001b[0m             \u001b[0;32mwith\u001b[0m \u001b[0mserver\u001b[0m\u001b[0;34m.\u001b[0m\u001b[0mget_socket\u001b[0m\u001b[0;34m(\u001b[0m\u001b[0mself\u001b[0m\u001b[0;34m.\u001b[0m\u001b[0m__all_credentials\u001b[0m\u001b[0;34m)\u001b[0m \u001b[0;32mas\u001b[0m \u001b[0msock_info\u001b[0m\u001b[0;34m:\u001b[0m\u001b[0;34m\u001b[0m\u001b[0;34m\u001b[0m\u001b[0m\n",
      "\u001b[0;32m~/.local/share/virtualenvs/code-AFz48Hjb/lib/python3.6/site-packages/pymongo/topology.py\u001b[0m in \u001b[0;36mselect_server\u001b[0;34m(self, selector, server_selection_timeout, address)\u001b[0m\n\u001b[1;32m    212\u001b[0m         return random.choice(self.select_servers(selector,\n\u001b[1;32m    213\u001b[0m                                                  \u001b[0mserver_selection_timeout\u001b[0m\u001b[0;34m,\u001b[0m\u001b[0;34m\u001b[0m\u001b[0;34m\u001b[0m\u001b[0m\n\u001b[0;32m--> 214\u001b[0;31m                                                  address))\n\u001b[0m\u001b[1;32m    215\u001b[0m \u001b[0;34m\u001b[0m\u001b[0m\n\u001b[1;32m    216\u001b[0m     def select_server_by_address(self, address,\n",
      "\u001b[0;32m~/.local/share/virtualenvs/code-AFz48Hjb/lib/python3.6/site-packages/pymongo/topology.py\u001b[0m in \u001b[0;36mselect_servers\u001b[0;34m(self, selector, server_selection_timeout, address)\u001b[0m\n\u001b[1;32m    187\u001b[0m                 \u001b[0;32mif\u001b[0m \u001b[0mserver_timeout\u001b[0m \u001b[0;34m==\u001b[0m \u001b[0;36m0\u001b[0m \u001b[0;32mor\u001b[0m \u001b[0mnow\u001b[0m \u001b[0;34m>\u001b[0m \u001b[0mend_time\u001b[0m\u001b[0;34m:\u001b[0m\u001b[0;34m\u001b[0m\u001b[0;34m\u001b[0m\u001b[0m\n\u001b[1;32m    188\u001b[0m                     raise ServerSelectionTimeoutError(\n\u001b[0;32m--> 189\u001b[0;31m                         self._error_message(selector))\n\u001b[0m\u001b[1;32m    190\u001b[0m \u001b[0;34m\u001b[0m\u001b[0m\n\u001b[1;32m    191\u001b[0m                 \u001b[0mself\u001b[0m\u001b[0;34m.\u001b[0m\u001b[0m_ensure_opened\u001b[0m\u001b[0;34m(\u001b[0m\u001b[0;34m)\u001b[0m\u001b[0;34m\u001b[0m\u001b[0;34m\u001b[0m\u001b[0m\n",
      "\u001b[0;31mServerSelectionTimeoutError\u001b[0m: mongo:27017: [Errno -3] Temporary failure in name resolution"
     ]
    }
   ],
   "source": [
    "collection_ec.delete_many({})\n",
    "collection_ec.insert_many(l_d)"
   ]
  },
  {
   "cell_type": "markdown",
   "id": "responsible-terminal",
   "metadata": {},
   "source": [
    "## Requète 1"
   ]
  },
  {
   "cell_type": "markdown",
   "id": "micro-mountain",
   "metadata": {},
   "source": [
    "Sort 5 évenements par ordre chronologique"
   ]
  },
  {
   "cell_type": "code",
   "execution_count": null,
   "id": "metropolitan-notification",
   "metadata": {},
   "outputs": [],
   "source": [
    "req = collection_ec.find().limit(5).sort([(\"DATE_EVENEMENT\", -1)])\n",
    "for test in req:\n",
    "    print(test)"
   ]
  },
  {
   "cell_type": "markdown",
   "id": "virtual-ensemble",
   "metadata": {},
   "source": [
    "## Requète 2"
   ]
  },
  {
   "cell_type": "markdown",
   "id": "intelligent-manchester",
   "metadata": {},
   "source": [
    "Compte le nombre d'entrées à partir du 01/01/2016"
   ]
  },
  {
   "cell_type": "code",
   "execution_count": null,
   "id": "metropolitan-institution",
   "metadata": {},
   "outputs": [],
   "source": [
    "req = collection_ec.find({\"$expr\": {\"$gte\": [\"$DATE_EVENEMENT\", \"20160101\"]}})\n",
    "req.count()"
   ]
  },
  {
   "cell_type": "markdown",
   "id": "initial-feedback",
   "metadata": {},
   "source": [
    "## Requète 3"
   ]
  },
  {
   "cell_type": "markdown",
   "id": "processed-tourism",
   "metadata": {},
   "source": [
    "Montre le nombre total de mariage et de décès"
   ]
  },
  {
   "cell_type": "code",
   "execution_count": null,
   "id": "bigger-evening",
   "metadata": {},
   "outputs": [],
   "source": [
    "req = collection_ks.aggregate([{\"$group\": {\"_id\": \"$TYPE_EVENEMENT\", \"Total\" : {\"$sum\": 1}}}])\n",
    "list(req)"
   ]
  }
 ],
 "metadata": {
  "kernelspec": {
   "display_name": "Python 3",
   "language": "python",
   "name": "python3"
  },
  "language_info": {
   "codemirror_mode": {
    "name": "ipython",
    "version": 3
   },
   "file_extension": ".py",
   "mimetype": "text/x-python",
   "name": "python",
   "nbconvert_exporter": "python",
   "pygments_lexer": "ipython3",
   "version": "3.6.13"
  }
 },
 "nbformat": 4,
 "nbformat_minor": 5
}
